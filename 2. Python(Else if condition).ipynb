{
 "cells": [
  {
   "cell_type": "code",
   "execution_count": null,
   "metadata": {},
   "outputs": [],
   "source": [
    "a = input()\n",
    "b = input()\n",
    "a+b"
   ]
  },
  {
   "cell_type": "code",
   "execution_count": null,
   "metadata": {},
   "outputs": [],
   "source": [
    "a = int(input ())\n",
    "b = int(input ())\n",
    "c = str(input())\n",
    "if c==('+'):\n",
    "    print(a+b)\n",
    "elif c==('-'):\n",
    "    print(a-b)\n",
    "elif c==('*'):\n",
    "    print(a*b)\n",
    "elif c==('/'):\n",
    "    print(a/b)\n",
    "else:\n",
    "    print('wrong selction')"
   ]
  },
  {
   "cell_type": "code",
   "execution_count": null,
   "metadata": {},
   "outputs": [],
   "source": [
    "\n",
    "for i in range(1,32):\n",
    "    print(i)\n",
    "    i=i+1"
   ]
  },
  {
   "cell_type": "code",
   "execution_count": null,
   "metadata": {},
   "outputs": [],
   "source": [
    "a = int(intput())\n",
    "b = int(input())\n",
    "c = int(intput())\n",
    "if a==44 and b==12:\n",
    "    break\n",
    "elif c==('+'):\n",
    "    print(a+b)\n",
    "elif c==('-'):\n",
    "    print(a-b):\n",
    "elif c==('*'):\n",
    "    print(a*b)\n",
    "elif c==('/'):\n",
    "    print(a/b)\n",
    "else:\n",
    "    print(\"wrong option\")\n",
    "    "
   ]
  },
  {
   "cell_type": "code",
   "execution_count": null,
   "metadata": {},
   "outputs": [],
   "source": []
  }
 ],
 "metadata": {
  "kernelspec": {
   "display_name": "Python 3",
   "language": "python",
   "name": "python3"
  },
  "language_info": {
   "codemirror_mode": {
    "name": "ipython",
    "version": 3
   },
   "file_extension": ".py",
   "mimetype": "text/x-python",
   "name": "python",
   "nbconvert_exporter": "python",
   "pygments_lexer": "ipython3",
   "version": "3.7.6"
  }
 },
 "nbformat": 4,
 "nbformat_minor": 4
}
