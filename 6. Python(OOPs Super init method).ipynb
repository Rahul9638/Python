{
 "cells": [
  {
   "cell_type": "code",
   "execution_count": 3,
   "metadata": {},
   "outputs": [],
   "source": [
    "class Employee:\n",
    "    def __init__(self,employee_id_no,salary):\n",
    "        self.employee_id_no=employee_id_no\n",
    "        self.salary=salary\n",
    "    def Show_details_employee(self):\n",
    "        print('name of employee is',self.employee_id_no)\n",
    "        print('salary of employee is',self.salary)\n",
    "        print('Rahul is the best boy')"
   ]
  },
  {
   "cell_type": "code",
   "execution_count": 4,
   "metadata": {},
   "outputs": [],
   "source": [
    "e1 = Employee('RC544',556666)"
   ]
  },
  {
   "cell_type": "code",
   "execution_count": 5,
   "metadata": {},
   "outputs": [
    {
     "name": "stdout",
     "output_type": "stream",
     "text": [
      "name of employee is RC544\n",
      "salary of employee is 556666\n",
      "Rahul is the best boy\n"
     ]
    }
   ],
   "source": [
    "e1.Show_details_employee ()"
   ]
  },
  {
   "cell_type": "code",
   "execution_count": 6,
   "metadata": {},
   "outputs": [
    {
     "ename": "SyntaxError",
     "evalue": "invalid syntax (<ipython-input-6-aa4faed05f92>, line 3)",
     "output_type": "error",
     "traceback": [
      "\u001b[1;36m  File \u001b[1;32m\"<ipython-input-6-aa4faed05f92>\"\u001b[1;36m, line \u001b[1;32m3\u001b[0m\n\u001b[1;33m    super().__init__ (employee_id_no,salary):\u001b[0m\n\u001b[1;37m                                             ^\u001b[0m\n\u001b[1;31mSyntaxError\u001b[0m\u001b[1;31m:\u001b[0m invalid syntax\n"
     ]
    }
   ],
   "source": [
    "class Civil_Employee(Employee):\n",
    "    def __init__ (self,emloyee_id_no,salary,dob,age,gender):\n",
    "        super().__init__ (employee_id_no,salary):\n",
    "            self.dob = dob\n",
    "            self.age = age\n",
    "            self.gender = gender\n",
    "    def show_more_details_employee(self):\n",
    "        print('the dob of the employee',self.dob)\n",
    "        print('the age of the employee is ',self.age)\n",
    "        print('the gender of the employee is',self.gender)\n",
    "        \n",
    "    \n",
    "    "
   ]
  },
  {
   "cell_type": "code",
   "execution_count": null,
   "metadata": {},
   "outputs": [],
   "source": []
  }
 ],
 "metadata": {
  "kernelspec": {
   "display_name": "Python 3",
   "language": "python",
   "name": "python3"
  },
  "language_info": {
   "codemirror_mode": {
    "name": "ipython",
    "version": 3
   },
   "file_extension": ".py",
   "mimetype": "text/x-python",
   "name": "python",
   "nbconvert_exporter": "python",
   "pygments_lexer": "ipython3",
   "version": "3.7.6"
  }
 },
 "nbformat": 4,
 "nbformat_minor": 4
}
